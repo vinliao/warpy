{
 "cells": [
  {
   "cell_type": "markdown",
   "metadata": {},
   "source": [
    "# Warpy: Farcaster datasets, one API call away.\n",
    "\n",
    "Welcome to Warpy! This notebook will walk you through the basics.\n"
   ]
  },
  {
   "cell_type": "code",
   "execution_count": null,
   "metadata": {},
   "outputs": [],
   "source": [
    "%pip install pandas\n",
    "%pip install requests\n",
    "%pip install tabulate\n",
    "%pip install seaborn"
   ]
  },
  {
   "cell_type": "code",
   "execution_count": 13,
   "metadata": {},
   "outputs": [],
   "source": [
    "import requests\n",
    "import json\n",
    "import pandas as pd\n",
    "from tabulate import tabulate\n",
    "\n",
    "\n",
    "def query_db(query: str, query_type: str = \"english\", export_csv: bool = False):\n",
    "    url = \"https://api.warpy.dev/query\"\n",
    "    headers = {\"Content-Type\": \"application/json\"}\n",
    "    data = json.dumps(\n",
    "        {\"query\": query, \"type\": query_type, \"export\": \"csv\" if export_csv else None}\n",
    "    )\n",
    "    response = requests.post(url, data=data, headers=headers)\n",
    "\n",
    "    if response.status_code != 200:\n",
    "        raise Exception(f\"Request failed with status code {response.status_code}\")\n",
    "\n",
    "    return response.json()\n",
    "\n",
    "\n",
    "def truncate_text(text, max_length=50):\n",
    "    return text if len(text) <= max_length else text[:max_length] + \"...\""
   ]
  },
  {
   "cell_type": "code",
   "execution_count": 2,
   "metadata": {},
   "outputs": [
    {
     "name": "stdout",
     "output_type": "stream",
     "text": [
      "+----+-------+------------+-------------------------------------------------------+\n",
      "|    |   fid | username   | bio_text                                              |\n",
      "+====+=======+============+=======================================================+\n",
      "|  0 |  3265 | tarrence   |                                                       |\n",
      "|  1 |  4177 | xo         | Web 3 hater today, Web 3 lover tomorrow               |\n",
      "|  2 |   407 | alfred     | building supertrue.com - https://tinyurl.com/super... |\n",
      "+----+-------+------------+-------------------------------------------------------+\n"
     ]
    }
   ],
   "source": [
    "# normal sql query, nothin' fancy\n",
    "query = \"SELECT fid, username, bio_text FROM users ORDER BY RAND() LIMIT 3;\"\n",
    "\n",
    "data = query_db(query, query_type=\"raw\")\n",
    "df = pd.DataFrame(data[\"result\"])\n",
    "df = df.applymap(lambda x: truncate_text(x) if isinstance(x, str) else x)\n",
    "print(tabulate(df, headers=\"keys\", tablefmt=\"outline\"))"
   ]
  },
  {
   "cell_type": "code",
   "execution_count": 6,
   "metadata": {},
   "outputs": [
    {
     "name": "stdout",
     "output_type": "stream",
     "text": [
      "+----+-------+-----------------+-----------------+\n",
      "|    |   fid | username        | display_name    |\n",
      "+====+=======+=================+=================+\n",
      "|  0 |   379 | blockchainbrett | BlockchainBrett |\n",
      "|  1 |  5985 | brazen          | brazenburrito   |\n",
      "|  2 |  2941 | brittenwolf     | Britten Wolf    |\n",
      "+----+-------+-----------------+-----------------+\n"
     ]
    }
   ],
   "source": [
    "# use GPT-4 to write sql queries using the \"english-advanced\" type\n",
    "# note: type: \"english\" is GPT-3.5 with simpler prompt, it's faster but less accurate;\n",
    "# \"english-advanced\" is GPT-4 with more complex prompt, use this if you want to do\n",
    "# complex joins, subqueries, etc.\n",
    "\n",
    "query = (\n",
    "    \"get users who like the most liked cast, but only return the user with username\"\n",
    "    \" that starts with 'b', only select fid, username, display_name, limit 3\"\n",
    ")\n",
    "\n",
    "data = query_db(query, query_type=\"english-advanced\")\n",
    "df = pd.DataFrame(data[\"result\"])\n",
    "df = df.applymap(lambda x: truncate_text(x) if isinstance(x, str) else x)\n",
    "print(tabulate(df, headers=\"keys\", tablefmt=\"outline\"))"
   ]
  },
  {
   "cell_type": "code",
   "execution_count": 14,
   "metadata": {},
   "outputs": [
    {
     "name": "stdout",
     "output_type": "stream",
     "text": [
      "{\n",
      "    \"result\": \"https://pub-3916d8c82abb435eb70175747fdc2119.r2.dev/1682757135098.csv\",\n",
      "    \"sql\": \"SELECT * FROM casts WHERE text LIKE 'gm%' ORDER BY RAND() LIMIT 10;\",\n",
      "    \"schema\": \"09e5d80a53a4\"\n",
      "}\n"
     ]
    }
   ],
   "source": [
    "# you can also export csv directly from the API\n",
    "query = \"get ten random casts that starts with 'gm'\"\n",
    "export_csv = True\n",
    "\n",
    "result = query_db(query, query_type=\"english\", export_csv=export_csv)\n",
    "print(json.dumps(result, indent=4))"
   ]
  },
  {
   "cell_type": "code",
   "execution_count": 8,
   "metadata": {},
   "outputs": [
    {
     "name": "stdout",
     "output_type": "stream",
     "text": [
      "Random sample of casts containing 'gjelina' or 'erewhon':\n",
      "+-----+--------------------------------------------+--------------------------------------------------------------------------------------------------------------------------------------------------------------+--------------+\n",
      "|     | hash                                       | text                                                                                                                                                         |   author_fid |\n",
      "+=====+============================================+==============================================================================================================================================================+==============+\n",
      "| 136 | 0x74076cd6328ade80da27487ff951e91873a64b32 | “Look I forgot what I was going to say because @nonlinear almost got us kicked out of the App Store again, but since you’re in town go check out Gjelina”    |          617 |\n",
      "| 107 | 0xa7a7bc391d6ca823984fd291b4f453c57a7fc9e4 | I have no idea what Gjelina and Erewhon are but am beginning to think I live in a TTRPG.                                                                     |         3872 |\n",
      "| 138 | 0xece779383045cc0da82a5b8354a15bf1300ee424 | what’s your order at erewhon and gjusta?                                                                                                                     |         2755 |\n",
      "|  17 | 0x8f81bffab046d3d58d1eb923d3a096816a67f601 | ~6 months until we see dwr in Ralphs, wearing a bathrobe like the Dude. Although Erewhon will be more likely as that’s where farcasters bump into each other |          474 |\n",
      "| 122 | 0x59deb5737ff2dd23602cd70bae2db93247db88da | At Gjelina or Erewhon? Gjelina would send me to sleep!                                                                                                       |         9144 |\n",
      "+-----+--------------------------------------------+--------------------------------------------------------------------------------------------------------------------------------------------------------------+--------------+\n",
      "Users with at least 5 casts that contain 'gjelina' or 'erewhon':\n",
      "+----+-------+------------+-------------------------------------------------------+\n",
      "|    |   fid | username   | bio_text                                              |\n",
      "+====+=======+============+=======================================================+\n",
      "|  0 |     2 | v          | Technowatermelon. Elder Millenial. Building Farcas... |\n",
      "|  1 |     3 | dwr        | Working on Farcaster.                                 |\n",
      "|  2 |   239 | ted        | biz ops @goldfinch | contributor @boysclub | surfi... |\n",
      "|  3 |   474 | pdr        | nf.td/pdr                                             |\n",
      "+----+-------+------------+-------------------------------------------------------+\n"
     ]
    }
   ],
   "source": [
    "# Step 1: Get all casts containing the keywords\n",
    "query = \"SELECT hash, text, author_fid FROM casts WHERE text LIKE '%gjelina%' OR text LIKE '%erewhon%'\"\n",
    "cast_data = query_db(query)\n",
    "cast_df = pd.DataFrame(cast_data[\"result\"])\n",
    "\n",
    "# Step 2: Print random sample of the filtered casts\n",
    "random_casts_df = cast_df.sample(5)\n",
    "print(\"Random sample of casts containing 'gjelina' or 'erewhon':\")\n",
    "random_casts_df[\"text\"] = random_casts_df[\"text\"].str.replace(\"\\n\", \" \")\n",
    "print(tabulate(random_casts_df, headers=\"keys\", tablefmt=\"outline\"))\n",
    "\n",
    "# Step 3: Group by users who have at least 5 mentions and print their info\n",
    "user_counts = cast_df[\"author_fid\"].value_counts()\n",
    "fids_with_at_least_5_mentions = user_counts[user_counts >= 5].index\n",
    "\n",
    "query = f\"SELECT fid, username, bio_text FROM users WHERE fid IN {tuple(fids_with_at_least_5_mentions)}\"\n",
    "users_data = query_db(query)\n",
    "users_df = pd.DataFrame(users_data[\"result\"])\n",
    "users_df = users_df.applymap(lambda x: truncate_text(x) if isinstance(x, str) else x)\n",
    "\n",
    "print(\"Users with at least 5 casts that contain 'gjelina' or 'erewhon':\")\n",
    "print(tabulate(users_df, headers=\"keys\", tablefmt=\"outline\"))"
   ]
  },
  {
   "cell_type": "code",
   "execution_count": 7,
   "metadata": {},
   "outputs": [
    {
     "data": {
      "image/png": "[encoded data removed]",
      "text/plain": [
       "<Figure size 640x480 with 1 Axes>"
      ]
     },
     "metadata": {},
     "output_type": "display_data"
    }
   ],
   "source": [
    "# you can use seaborn/matplotlib to visualize things\n",
    "# ex: plot top 10 farcasters' most frequent locations\n",
    "import seaborn as sns\n",
    "import matplotlib.pyplot as plt\n",
    "\n",
    "# get top 10 farcasters' most frequent locations\n",
    "query = \"\"\"\n",
    "SELECT l.description, COUNT(*) AS count\n",
    "FROM users u\n",
    "JOIN locations l ON u.location_id = l.id\n",
    "GROUP BY l.description\n",
    "ORDER BY count DESC\n",
    "LIMIT 10;\n",
    "\"\"\"\n",
    "\n",
    "data = query_db(query)\n",
    "df = pd.DataFrame(data[\"result\"])\n",
    "\n",
    "sns.barplot(x='count', y='description', data=df, palette=\"deep\")\n",
    "plt.show()\n",
    "\n"
   ]
  },
  {
   "attachments": {},
   "cell_type": "markdown",
   "metadata": {},
   "source": [
    "Shoutout to Purple DAO for sponsoring Warpy! Check them out: https://purple.construction.\n",
    "\n",
    "Complaints, comments, feedback to go @pixel on Farcaster. DM's open: t.me/pixelhackxyz :)\n"
   ]
  }
 ],
 "metadata": {
  "kernelspec": {
   "display_name": "Python 3 (ipykernel)",
   "language": "python",
   "name": "python3"
  },
  "language_info": {
   "codemirror_mode": {
    "name": "ipython",
    "version": 3
   },
   "file_extension": ".py",
   "mimetype": "text/x-python",
   "name": "python",
   "nbconvert_exporter": "python",
   "pygments_lexer": "ipython3",
   "version": "3.11.3"
  }
 },
 "nbformat": 4,
 "nbformat_minor": 2
}
